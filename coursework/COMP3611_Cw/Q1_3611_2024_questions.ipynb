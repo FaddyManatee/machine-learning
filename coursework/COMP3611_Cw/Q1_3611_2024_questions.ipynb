{
 "cells": [
  {
   "cell_type": "markdown",
   "id": "55504f65",
   "metadata": {},
   "source": [
    "# Question 1\n",
    "\n",
    "Load the data from the file *trajectory.csv*. The data consists of three rows representing a trajectory. The first row represents time, the second row represents the $x$-coordinate at each timestep, and the third row represents the $y$-coordinate.\n",
    "\n",
    "**Q1 a (3 marks)**\n",
    "\n",
    "Plot the $x$-coordinate against time (i.e., t-x figure) and also for the $y$-coordinate (i.e., t-y figure). Also plot the trajectory in 2D (i.e., x-y figure).\n",
    "\n",
    "You need to respectively use variables 't', 'x', 'y' to represent time, x-coordinate, and y-coordinate, as these variables will be needed in other questions."
   ]
  },
  {
   "cell_type": "code",
   "execution_count": null,
   "id": "4a9e05ac",
   "metadata": {},
   "outputs": [],
   "source": []
  },
  {
   "cell_type": "markdown",
   "id": "d98fe29f",
   "metadata": {},
   "source": [
    "### Linear regression using two different sets of basis functions\n",
    " \n",
    "The following code blocks show two attempts to perform linear regression. The only difference is the choice of basis functions. The first one is based on exponential:"
   ]
  },
  {
   "cell_type": "code",
   "execution_count": null,
   "id": "6301bbeb",
   "metadata": {},
   "outputs": [],
   "source": [
    "import numpy as np\n",
    "basis_num = 50 # number of basis functions\n",
    "\n",
    "def exponential_basis_function(t, basis_num):\n",
    "    c = np.zeros(basis_num)  # centers of basis functions\n",
    "    h = np.zeros(basis_num)  # widths of basis functions\n",
    "    for i in range(basis_num):\n",
    "        c[i] = 1.0 / basis_num * i\n",
    "        h[i] = 50\n",
    "    res = np.exp(-h * (t - c) ** 2)\n",
    "    return res\n",
    "\n",
    "def fit_exponential(basis_num, t):\n",
    "    phi_pred = np.zeros((len(t), basis_num))    # shape: 200 * basis_num \n",
    "    for idx, tt in enumerate(t):\n",
    "        phi = exponential_basis_function(tt, basis_num)\n",
    "        addsum = np.sum(phi, axis=-1)\n",
    "        phi_pred[idx] = phi / addsum\n",
    "    return phi_pred"
   ]
  },
  {
   "cell_type": "markdown",
   "id": "e4ff1f3b",
   "metadata": {},
   "source": [
    "The second one uses polynomials as basis functions:"
   ]
  },
  {
   "cell_type": "code",
   "execution_count": null,
   "id": "ecb57900",
   "metadata": {},
   "outputs": [],
   "source": [
    "def polynomial_basis_function(t):\n",
    "    # a polynomial basis function\n",
    "    res1 = np.ones_like(t)\n",
    "    res2 = t\n",
    "    res3 = t**2\n",
    "    res4 = t**3\n",
    "    res = np.stack([res1, res2, res3, res4]).T\n",
    "    return res"
   ]
  },
  {
   "cell_type": "markdown",
   "id": "16c86896",
   "metadata": {},
   "source": [
    "Fit the 2-D trajectory using exponential basis functions and predict a 2-D trajectory [x y] for all time inputs t"
   ]
  },
  {
   "cell_type": "code",
   "execution_count": null,
   "id": "e86c810c",
   "metadata": {},
   "outputs": [],
   "source": [
    "Phi = fit_exponential(basis_num, t)  \n",
    "pos = np.stack([x, y]).T\n",
    "w = np.linalg.pinv(Phi.T @ Phi) @ Phi.T @ pos\n",
    "predict_pos = Phi @ w"
   ]
  },
  {
   "cell_type": "markdown",
   "id": "04642e6c",
   "metadata": {},
   "source": [
    "**Q1 b (6 marks)**\n",
    "\n",
    "b1. The correct predictions for the exponential basis functions have already been provided above. Employ linear regression to fit the trajectories with polynomial basis functions (defined by 'polynomial_basis_function(t)').\n",
    "\n",
    "b2. Plot the $x$-coordinate of the original data set against time (i.e., t-x plot) in one figure. Do the same for the $y$-coordinate (i.e., t-y plot) in another figure. Now overlay the predictions using the exponential basis functions (i.e., plot \"predicted x against t\" and \"original x against t\" in the same figure, plot \"predicted y against t\" and \"original y against t\" in the same figure). Do the same for the predictions based on the polynomial basis functions.\n",
    "\n",
    "b3. Also plot the 2D (i.e., x-y) trajectory of the original data and the predicted 2D trajectories for the exponential and polynomial basis functions."
   ]
  },
  {
   "cell_type": "code",
   "execution_count": null,
   "id": "d9309d67",
   "metadata": {},
   "outputs": [],
   "source": []
  },
  {
   "cell_type": "markdown",
   "id": "4aa83f03",
   "metadata": {},
   "source": [
    "**Q1 c (8 marks)**\n",
    "\n",
    "If you have done the previous question correctly, one set of basis functions appears to deliver much better predictions than the other set of basis functions. On closer inspection you will find that the number of basis functions used in the best predictions is much larger than for the poor predictions. We must compare like with like so modify the code so that\n",
    "you can control the number of basis functions. Then plot both sets of predictions for 2, 5, 10 and 50 basis functions. Show these 2D plots and comment if you can really say that one set of basis functions outperforms the other, qualitatively."
   ]
  },
  {
   "cell_type": "code",
   "execution_count": null,
   "id": "1e047328",
   "metadata": {},
   "outputs": [],
   "source": []
  },
  {
   "cell_type": "markdown",
   "id": "76b82b60",
   "metadata": {},
   "source": [
    "**Q1 d (5 marks)**\n",
    "\n",
    "Consider what basis functions (beyond exponential or the polynomial basis functions) might be suitable to model the data \"data2.npy\". In \"data2.npy\", the first column is time t while the second column is x-coordinate. You should be able to do this with a small set of basis functions and get a good fit. \n",
    "\n",
    "Plot your prediction and the original data in the same figure (i.e., t-x)."
   ]
  },
  {
   "cell_type": "code",
   "execution_count": null,
   "id": "84423dc6",
   "metadata": {},
   "outputs": [],
   "source": [
    "import numpy as np\n",
    "import matplotlib.pyplot as plt\n",
    "\n",
    "#  plot the trajectory\n",
    "data = np.load(\"data2.npy\") # size: 200*2, the first column is time input while the second column is x-coordinate.\n",
    "t = data[:, 0]\n",
    "target = data[:, 1]\n",
    "\n",
    "plt.plot(t, target, label='target')\n",
    "plt.legend()\n",
    "plt.xlabel(\"t\")\n",
    "plt.ylabel(\"x\")\n",
    "plt.show()"
   ]
  },
  {
   "cell_type": "code",
   "execution_count": null,
   "id": "023b0705",
   "metadata": {},
   "outputs": [],
   "source": []
  },
  {
   "cell_type": "markdown",
   "id": "6415ef0a",
   "metadata": {},
   "source": [
    "# Question 2\n",
    "\n",
    "**Q2 a (4 marks)**\n",
    "\n",
    "You are given a data array called \"shape_array.npy\" that comprises 7 samples organised as columns in the array, where each column corresponds to one sample. The data format in each column is: [x_1, y_1, z_1, x_2, y_2, z_2, ………, x_N, y_N, z_N], where (x_i, y_i, z_i) corresponds to the i-th 3D point of a blood vessel. By plotting all 3D points in one column, you can obtain the shape of a blood vessel of that sample.\n",
    "\n",
    "Plot seven figures to show the 3D blood vessel shape for each sample separately. Also plot two arbitrary shapes on top of each other to get a feeling of how similar or dissimilar the shapes are."
   ]
  },
  {
   "cell_type": "code",
   "execution_count": null,
   "id": "7fe2ce29",
   "metadata": {},
   "outputs": [],
   "source": []
  },
  {
   "cell_type": "markdown",
   "id": "85fdaaa7",
   "metadata": {},
   "source": [
    "**Q2 b (10 marks)** \n",
    "\n",
    "Next, perform eigendecomposition of the covariance matrix estimated from the given data array. Finally, project original data onto lower-dimensional space and reconstruct data.\n",
    "\n",
    "Proceed as follows:\n",
    "\n",
    "1. Subtract the mean from the data, so that it is centered around the origin.\n",
    "\n",
    "2. Estimate the covariance matrix from the centred data.\n",
    "\n",
    "3. Calculate eigenvectors and eigenvalues using numpy functions\n",
    "\n",
    "4. Project centered data (1845 dimension) into a lower-dimension space (You need to choose a reasonable dimension). \n",
    "\n",
    "5. Reconstruct the blood vessel shape from the lower dimension data in step 4.\n",
    "\n",
    "\n",
    "As a sanity check plot a blood vessel shape reconstructed from the eigenvectors on top of the original blood vessel shape. Explain how much data reduction you have achieved. Comment on your results."
   ]
  },
  {
   "cell_type": "code",
   "execution_count": null,
   "id": "51a658d2",
   "metadata": {},
   "outputs": [],
   "source": []
  },
  {
   "cell_type": "markdown",
   "id": "e7a8b735",
   "metadata": {},
   "source": [
    "**Q2 c (4 marks)** \n",
    "\n",
    "Research PCA analysis using the *scikit-learn* library. Perform PCA analysis and show the reconstructed data of any blood vessel shape on top of the original blood vessel shape. There are variables in the PCA object that correspond to the eigenvalues used for choosing projection eigenvectors. Compare the eigenvalues  and eigenvectors you have computed in the previous question with the eigenvalues  and the eigenvectors computed by the *scikit-learn* library. Compare the reconstructed coordinates from both methods. Comment on your results."
   ]
  },
  {
   "cell_type": "code",
   "execution_count": null,
   "id": "b5b6fbd4",
   "metadata": {},
   "outputs": [],
   "source": []
  }
 ],
 "metadata": {
  "kernelspec": {
   "display_name": "Python 3 (ipykernel)",
   "language": "python",
   "name": "python3"
  },
  "language_info": {
   "codemirror_mode": {
    "name": "ipython",
    "version": 3
   },
   "file_extension": ".py",
   "mimetype": "text/x-python",
   "name": "python",
   "nbconvert_exporter": "python",
   "pygments_lexer": "ipython3",
   "version": "3.11.7"
  }
 },
 "nbformat": 4,
 "nbformat_minor": 5
}
